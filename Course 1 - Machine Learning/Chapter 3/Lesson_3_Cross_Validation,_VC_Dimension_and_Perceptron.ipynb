{
  "nbformat": 4,
  "nbformat_minor": 0,
  "metadata": {
    "colab": {
      "provenance": []
    },
    "kernelspec": {
      "name": "python3",
      "display_name": "Python 3"
    },
    "language_info": {
      "name": "python"
    }
  },
  "cells": [
    {
      "cell_type": "markdown",
      "source": [
        "#Cross Validation\n"
      ],
      "metadata": {
        "id": "tQj_jiYvaAsp"
      }
    },
    {
      "cell_type": "markdown",
      "source": [
        "Cross-validation is a technique used to evaluate the performance and generalizability of machine learning models. It involves splitting the dataset into multiple subsets (or folds), training the model on a subset of the data, and evaluating it on the remaining subset. This process is repeated multiple times, rotating which subset is used for training and testing, to ensure a robust estimation of the model's performance.\n"
      ],
      "metadata": {
        "id": "wVVwUeqyaBbJ"
      }
    },
    {
      "cell_type": "markdown",
      "source": [
        "#K-Fold Cross-Validation:\n",
        "\n",
        "* In K-Fold cross-validation, the dataset is divided into K subsets (or folds) of approximately equal size.\n",
        "* The model is trained K times, each time using K-1 folds as training data and one fold as validation data.\n",
        "* The final performance metric is computed as the average of the metric values obtained in each fold."
      ],
      "metadata": {
        "id": "029ZuII3aK26"
      }
    },
    {
      "cell_type": "code",
      "execution_count": null,
      "metadata": {
        "colab": {
          "base_uri": "https://localhost:8080/"
        },
        "id": "yt9XiMoNZ-dN",
        "outputId": "a2caaa52-4173-4a80-d1f1-35534a5851d3"
      },
      "outputs": [
        {
          "output_type": "stream",
          "name": "stdout",
          "text": [
            "Downloading data from https://storage.googleapis.com/tensorflow/tf-keras-datasets/mnist.npz\n",
            "11490434/11490434 [==============================] - 0s 0us/step\n"
          ]
        }
      ],
      "source": [
        "import tensorflow as tf\n",
        "from sklearn.model_selection import KFold\n",
        "from tensorflow.keras.datasets import mnist\n",
        "\n",
        "(X_train, y_train), (X_test, y_test) = mnist.load_data()\n",
        "X_train = X_train.reshape((-1, 28*28)).astype('float32') / 255.0\n",
        "X_test = X_test.reshape((-1, 28*28)).astype('float32') / 255.0"
      ]
    },
    {
      "cell_type": "code",
      "source": [
        "kf = KFold(n_splits=5, shuffle=True, random_state=42)"
      ],
      "metadata": {
        "id": "319Mp8BqaF8r"
      },
      "execution_count": null,
      "outputs": []
    },
    {
      "cell_type": "code",
      "source": [
        "for train_index, val_index in kf.split(X_train):\n",
        "    X_train_fold, X_val_fold = X_train[train_index], X_train[val_index]\n",
        "    y_train_fold, y_val_fold = y_train[train_index], y_train[val_index]\n",
        "\n",
        "    model = tf.keras.Sequential([\n",
        "        tf.keras.layers.Dense(128, activation='relu', input_shape=(784,)),\n",
        "        tf.keras.layers.Dense(10, activation='softmax')\n",
        "    ])\n",
        "\n",
        "    model.compile(optimizer='adam',\n",
        "                  loss='sparse_categorical_crossentropy',\n",
        "                  metrics=['accuracy'])\n",
        "\n",
        "    model.fit(X_train_fold, y_train_fold, epochs=5, batch_size=32,\n",
        "              validation_data=(X_val_fold, y_val_fold))\n",
        "\n",
        "    _, accuracy = model.evaluate(X_val_fold, y_val_fold)\n",
        "    print(f'Validation Accuracy: {accuracy}')"
      ],
      "metadata": {
        "colab": {
          "base_uri": "https://localhost:8080/"
        },
        "id": "wnWgV3XpaG8b",
        "outputId": "1c694bb7-49dc-4ce4-bc6f-fd05b9f2b1b5"
      },
      "execution_count": null,
      "outputs": [
        {
          "output_type": "stream",
          "name": "stdout",
          "text": [
            "Epoch 1/5\n",
            "1500/1500 [==============================] - 10s 6ms/step - loss: 0.2837 - accuracy: 0.9184 - val_loss: 0.1560 - val_accuracy: 0.9552\n",
            "Epoch 2/5\n",
            "1500/1500 [==============================] - 9s 6ms/step - loss: 0.1262 - accuracy: 0.9632 - val_loss: 0.1143 - val_accuracy: 0.9659\n",
            "Epoch 3/5\n",
            "1500/1500 [==============================] - 8s 5ms/step - loss: 0.0852 - accuracy: 0.9751 - val_loss: 0.0902 - val_accuracy: 0.9726\n",
            "Epoch 4/5\n",
            "1500/1500 [==============================] - 9s 6ms/step - loss: 0.0624 - accuracy: 0.9815 - val_loss: 0.0861 - val_accuracy: 0.9739\n",
            "Epoch 5/5\n",
            "1500/1500 [==============================] - 9s 6ms/step - loss: 0.0497 - accuracy: 0.9851 - val_loss: 0.0922 - val_accuracy: 0.9737\n",
            "375/375 [==============================] - 1s 2ms/step - loss: 0.0922 - accuracy: 0.9737\n",
            "Validation Accuracy: 0.9736666679382324\n",
            "Epoch 1/5\n",
            "1500/1500 [==============================] - 9s 6ms/step - loss: 0.2894 - accuracy: 0.9179 - val_loss: 0.1629 - val_accuracy: 0.9526\n",
            "Epoch 2/5\n",
            "1500/1500 [==============================] - 8s 6ms/step - loss: 0.1285 - accuracy: 0.9621 - val_loss: 0.1143 - val_accuracy: 0.9655\n",
            "Epoch 3/5\n",
            "1500/1500 [==============================] - 9s 6ms/step - loss: 0.0861 - accuracy: 0.9746 - val_loss: 0.0940 - val_accuracy: 0.9726\n",
            "Epoch 4/5\n",
            "1500/1500 [==============================] - 8s 5ms/step - loss: 0.0635 - accuracy: 0.9810 - val_loss: 0.0908 - val_accuracy: 0.9717\n",
            "Epoch 5/5\n",
            "1500/1500 [==============================] - 8s 5ms/step - loss: 0.0490 - accuracy: 0.9856 - val_loss: 0.0817 - val_accuracy: 0.9753\n",
            "375/375 [==============================] - 1s 3ms/step - loss: 0.0817 - accuracy: 0.9753\n",
            "Validation Accuracy: 0.9753333330154419\n",
            "Epoch 1/5\n",
            "1500/1500 [==============================] - 8s 5ms/step - loss: 0.2867 - accuracy: 0.9182 - val_loss: 0.1772 - val_accuracy: 0.9485\n",
            "Epoch 2/5\n",
            "1500/1500 [==============================] - 8s 6ms/step - loss: 0.1292 - accuracy: 0.9619 - val_loss: 0.1169 - val_accuracy: 0.9667\n",
            "Epoch 3/5\n",
            "1500/1500 [==============================] - 8s 6ms/step - loss: 0.0872 - accuracy: 0.9736 - val_loss: 0.1058 - val_accuracy: 0.9686\n",
            "Epoch 4/5\n",
            "1500/1500 [==============================] - 7s 5ms/step - loss: 0.0642 - accuracy: 0.9814 - val_loss: 0.0963 - val_accuracy: 0.9715\n",
            "Epoch 5/5\n",
            "1500/1500 [==============================] - 8s 6ms/step - loss: 0.0489 - accuracy: 0.9849 - val_loss: 0.1072 - val_accuracy: 0.9685\n",
            "375/375 [==============================] - 1s 2ms/step - loss: 0.1072 - accuracy: 0.9685\n",
            "Validation Accuracy: 0.968500018119812\n",
            "Epoch 1/5\n",
            "1500/1500 [==============================] - 10s 6ms/step - loss: 0.2863 - accuracy: 0.9166 - val_loss: 0.1676 - val_accuracy: 0.9504\n",
            "Epoch 2/5\n",
            "1500/1500 [==============================] - 8s 6ms/step - loss: 0.1265 - accuracy: 0.9623 - val_loss: 0.1261 - val_accuracy: 0.9622\n",
            "Epoch 3/5\n",
            "1500/1500 [==============================] - 11s 7ms/step - loss: 0.0838 - accuracy: 0.9748 - val_loss: 0.1042 - val_accuracy: 0.9694\n",
            "Epoch 4/5\n",
            "1500/1500 [==============================] - 8s 5ms/step - loss: 0.0628 - accuracy: 0.9810 - val_loss: 0.0907 - val_accuracy: 0.9731\n",
            "Epoch 5/5\n",
            "1500/1500 [==============================] - 7s 5ms/step - loss: 0.0475 - accuracy: 0.9854 - val_loss: 0.0893 - val_accuracy: 0.9733\n",
            "375/375 [==============================] - 1s 4ms/step - loss: 0.0893 - accuracy: 0.9733\n",
            "Validation Accuracy: 0.9733333587646484\n",
            "Epoch 1/5\n",
            "1500/1500 [==============================] - 9s 6ms/step - loss: 0.2791 - accuracy: 0.9203 - val_loss: 0.1569 - val_accuracy: 0.9527\n",
            "Epoch 2/5\n",
            "1500/1500 [==============================] - 8s 6ms/step - loss: 0.1233 - accuracy: 0.9636 - val_loss: 0.1151 - val_accuracy: 0.9663\n",
            "Epoch 3/5\n",
            "1500/1500 [==============================] - 8s 5ms/step - loss: 0.0850 - accuracy: 0.9753 - val_loss: 0.1048 - val_accuracy: 0.9673\n",
            "Epoch 4/5\n",
            "1500/1500 [==============================] - 8s 6ms/step - loss: 0.0655 - accuracy: 0.9806 - val_loss: 0.0982 - val_accuracy: 0.9705\n",
            "Epoch 5/5\n",
            "1500/1500 [==============================] - 9s 6ms/step - loss: 0.0486 - accuracy: 0.9855 - val_loss: 0.0863 - val_accuracy: 0.9731\n",
            "375/375 [==============================] - 1s 3ms/step - loss: 0.0863 - accuracy: 0.9731\n",
            "Validation Accuracy: 0.9730833172798157\n"
          ]
        }
      ]
    },
    {
      "cell_type": "markdown",
      "source": [
        "#Stratified K-Fold Cross-Validation\n"
      ],
      "metadata": {
        "id": "Zoqs7JXib1V4"
      }
    },
    {
      "cell_type": "markdown",
      "source": [
        "Stratified K-Fold cross-validation is particularly useful for classification tasks to ensure that each fold of the dataset maintains the same percentage of samples for each class as the complete dataset. This helps in mitigating issues related to class imbalance during model evaluation."
      ],
      "metadata": {
        "id": "T1B94Wm0b1wA"
      }
    },
    {
      "cell_type": "code",
      "source": [
        "import tensorflow as tf\n",
        "from sklearn.model_selection import StratifiedKFold\n",
        "from tensorflow.keras.datasets import mnist\n",
        "\n",
        "# Load MNIST dataset\n",
        "(X_train, y_train), (X_test, y_test) = mnist.load_data()\n",
        "X_train = X_train.reshape((-1, 28*28)).astype('float32') / 255.0\n",
        "X_test = X_test.reshape((-1, 28*28)).astype('float32') / 255.0\n",
        "\n",
        "# Define Stratified K-Fold cross-validation\n",
        "skf = StratifiedKFold(n_splits=5, shuffle=True, random_state=42)\n",
        "\n",
        "fold = 0\n",
        "for train_index, val_index in skf.split(X_train, y_train):\n",
        "    fold += 1\n",
        "    print(f\"Training on fold {fold}...\")\n",
        "\n",
        "    X_train_fold, X_val_fold = X_train[train_index], X_train[val_index]\n",
        "    y_train_fold, y_val_fold = y_train[train_index], y_train[val_index]\n",
        "\n",
        "    # Define and compile your TensorFlow model\n",
        "    model = tf.keras.Sequential([\n",
        "        tf.keras.layers.Dense(128, activation='relu', input_shape=(784,)),\n",
        "        tf.keras.layers.Dense(10, activation='softmax')\n",
        "    ])\n",
        "\n",
        "    model.compile(optimizer='adam',\n",
        "                  loss='sparse_categorical_crossentropy',\n",
        "                  metrics=['accuracy'])\n",
        "\n",
        "    # Train the model\n",
        "    model.fit(X_train_fold, y_train_fold, epochs=5, batch_size=32,\n",
        "              validation_data=(X_val_fold, y_val_fold))\n",
        "\n",
        "    # Evaluate the model on the test set\n",
        "    _, accuracy = model.evaluate(X_test, y_test)\n",
        "    print(f'Accuracy on test set: {accuracy}\\n')"
      ],
      "metadata": {
        "colab": {
          "base_uri": "https://localhost:8080/"
        },
        "id": "pk4im4utb24o",
        "outputId": "6dc26e53-b59b-476f-9ff8-1d5397901682"
      },
      "execution_count": null,
      "outputs": [
        {
          "output_type": "stream",
          "name": "stdout",
          "text": [
            "Training on fold 1...\n",
            "Epoch 1/5\n",
            "1500/1500 [==============================] - 12s 7ms/step - loss: 0.2812 - accuracy: 0.9194 - val_loss: 0.1676 - val_accuracy: 0.9485\n",
            "Epoch 2/5\n",
            "1500/1500 [==============================] - 9s 6ms/step - loss: 0.1283 - accuracy: 0.9621 - val_loss: 0.1184 - val_accuracy: 0.9659\n",
            "Epoch 3/5\n",
            "1500/1500 [==============================] - 9s 6ms/step - loss: 0.0870 - accuracy: 0.9736 - val_loss: 0.0999 - val_accuracy: 0.9702\n",
            "Epoch 4/5\n",
            "1500/1500 [==============================] - 8s 6ms/step - loss: 0.0634 - accuracy: 0.9802 - val_loss: 0.1018 - val_accuracy: 0.9707\n",
            "Epoch 5/5\n",
            "1500/1500 [==============================] - 9s 6ms/step - loss: 0.0484 - accuracy: 0.9856 - val_loss: 0.0882 - val_accuracy: 0.9747\n",
            "313/313 [==============================] - 1s 3ms/step - loss: 0.0847 - accuracy: 0.9735\n",
            "Accuracy on test set: 0.9735000133514404\n",
            "\n",
            "Training on fold 2...\n",
            "Epoch 1/5\n",
            "1500/1500 [==============================] - 9s 5ms/step - loss: 0.2906 - accuracy: 0.9182 - val_loss: 0.1687 - val_accuracy: 0.9516\n",
            "Epoch 2/5\n",
            "1500/1500 [==============================] - 10s 7ms/step - loss: 0.1304 - accuracy: 0.9623 - val_loss: 0.1187 - val_accuracy: 0.9657\n",
            "Epoch 3/5\n",
            "1500/1500 [==============================] - 11s 7ms/step - loss: 0.0890 - accuracy: 0.9735 - val_loss: 0.1068 - val_accuracy: 0.9687\n",
            "Epoch 4/5\n",
            "1500/1500 [==============================] - 14s 9ms/step - loss: 0.0648 - accuracy: 0.9807 - val_loss: 0.0895 - val_accuracy: 0.9734\n",
            "Epoch 5/5\n",
            "1500/1500 [==============================] - 10s 7ms/step - loss: 0.0512 - accuracy: 0.9846 - val_loss: 0.0867 - val_accuracy: 0.9765\n",
            "313/313 [==============================] - 1s 2ms/step - loss: 0.0834 - accuracy: 0.9760\n",
            "Accuracy on test set: 0.9760000109672546\n",
            "\n",
            "Training on fold 3...\n",
            "Epoch 1/5\n",
            "1500/1500 [==============================] - 8s 5ms/step - loss: 0.2873 - accuracy: 0.9182 - val_loss: 0.1831 - val_accuracy: 0.9484\n",
            "Epoch 2/5\n",
            "1500/1500 [==============================] - 9s 6ms/step - loss: 0.1295 - accuracy: 0.9617 - val_loss: 0.1247 - val_accuracy: 0.9636\n",
            "Epoch 3/5\n",
            "1500/1500 [==============================] - 9s 6ms/step - loss: 0.0874 - accuracy: 0.9735 - val_loss: 0.0982 - val_accuracy: 0.9689\n",
            "Epoch 4/5\n",
            "1500/1500 [==============================] - 7s 5ms/step - loss: 0.0652 - accuracy: 0.9801 - val_loss: 0.0974 - val_accuracy: 0.9712\n",
            "Epoch 5/5\n",
            "1500/1500 [==============================] - 9s 6ms/step - loss: 0.0504 - accuracy: 0.9845 - val_loss: 0.1050 - val_accuracy: 0.9684\n",
            "313/313 [==============================] - 1s 2ms/step - loss: 0.0916 - accuracy: 0.9717\n",
            "Accuracy on test set: 0.9717000126838684\n",
            "\n",
            "Training on fold 4...\n",
            "Epoch 1/5\n",
            "1500/1500 [==============================] - 9s 6ms/step - loss: 0.2854 - accuracy: 0.9189 - val_loss: 0.1687 - val_accuracy: 0.9504\n",
            "Epoch 2/5\n",
            "1500/1500 [==============================] - 8s 5ms/step - loss: 0.1282 - accuracy: 0.9616 - val_loss: 0.1224 - val_accuracy: 0.9613\n",
            "Epoch 3/5\n",
            "1500/1500 [==============================] - 8s 6ms/step - loss: 0.0882 - accuracy: 0.9732 - val_loss: 0.1061 - val_accuracy: 0.9661\n",
            "Epoch 4/5\n",
            "1500/1500 [==============================] - 9s 6ms/step - loss: 0.0663 - accuracy: 0.9803 - val_loss: 0.0910 - val_accuracy: 0.9730\n",
            "Epoch 5/5\n",
            "1500/1500 [==============================] - 12s 8ms/step - loss: 0.0512 - accuracy: 0.9847 - val_loss: 0.0930 - val_accuracy: 0.9715\n",
            "313/313 [==============================] - 2s 5ms/step - loss: 0.0882 - accuracy: 0.9734\n",
            "Accuracy on test set: 0.9733999967575073\n",
            "\n",
            "Training on fold 5...\n",
            "Epoch 1/5\n",
            "1500/1500 [==============================] - 13s 9ms/step - loss: 0.2840 - accuracy: 0.9196 - val_loss: 0.1730 - val_accuracy: 0.9486\n",
            "Epoch 2/5\n",
            "1500/1500 [==============================] - 13s 8ms/step - loss: 0.1268 - accuracy: 0.9625 - val_loss: 0.1273 - val_accuracy: 0.9617\n",
            "Epoch 3/5\n",
            "1500/1500 [==============================] - 8s 5ms/step - loss: 0.0862 - accuracy: 0.9743 - val_loss: 0.1067 - val_accuracy: 0.9693\n",
            "Epoch 4/5\n",
            "1500/1500 [==============================] - 8s 5ms/step - loss: 0.0639 - accuracy: 0.9801 - val_loss: 0.0917 - val_accuracy: 0.9705\n",
            "Epoch 5/5\n",
            "1500/1500 [==============================] - 8s 5ms/step - loss: 0.0499 - accuracy: 0.9843 - val_loss: 0.0922 - val_accuracy: 0.9719\n",
            "313/313 [==============================] - 1s 4ms/step - loss: 0.0842 - accuracy: 0.9727\n",
            "Accuracy on test set: 0.9726999998092651\n",
            "\n"
          ]
        }
      ]
    },
    {
      "cell_type": "markdown",
      "source": [
        "#Leave-One-Out Cross-Validation (LOOCV)\n"
      ],
      "metadata": {
        "id": "Cfcw6yAeb55Y"
      }
    },
    {
      "cell_type": "markdown",
      "source": [
        "Leave-One-Out Cross-Validation (LOOCV) is a special case of K-Fold cross-validation where K is equal to the number of samples in the dataset. It involves training the model on all but one sample and then testing it on the held-out sample, iterating this process for each sample in the dataset."
      ],
      "metadata": {
        "id": "_RcgCdx4b-kw"
      }
    },
    {
      "cell_type": "code",
      "source": [
        "import tensorflow as tf\n",
        "import numpy as np\n",
        "from sklearn.model_selection import LeaveOneOut\n",
        "\n",
        "# Synthetic dataset\n",
        "X = np.array([[1], [2], [3], [4]], dtype=np.float32)\n",
        "y = np.array([0, 1, 0, 1], dtype=np.float32)\n",
        "\n",
        "# Define Leave-One-Out cross-validation\n",
        "loo = LeaveOneOut()\n",
        "\n",
        "fold = 0\n",
        "for train_index, val_index in loo.split(X):\n",
        "    fold += 1\n",
        "    print(f\"Training on fold {fold}...\")\n",
        "\n",
        "    X_train_fold, X_val_fold = X[train_index], X[val_index]\n",
        "    y_train_fold, y_val_fold = y[train_index], y[val_index]\n",
        "\n",
        "    # Define and compile your TensorFlow model\n",
        "    model = tf.keras.Sequential([\n",
        "        tf.keras.layers.Dense(1, activation='sigmoid', input_shape=(1,))\n",
        "    ])\n",
        "\n",
        "    model.compile(optimizer='adam',\n",
        "                  loss='binary_crossentropy',\n",
        "                  metrics=['accuracy'])\n",
        "\n",
        "    # Train the model\n",
        "    model.fit(X_train_fold, y_train_fold, epochs=50, verbose=0)\n",
        "\n",
        "    # Evaluate the model on the validation set (single sample)\n",
        "    _, accuracy = model.evaluate(X_val_fold, y_val_fold)\n",
        "    print(f'Accuracy on validation set: {accuracy}\\n')"
      ],
      "metadata": {
        "colab": {
          "base_uri": "https://localhost:8080/"
        },
        "id": "Y3ixqqR3cAZo",
        "outputId": "7ada8f52-d93f-4139-aebc-64791732dbee"
      },
      "execution_count": null,
      "outputs": [
        {
          "output_type": "stream",
          "name": "stdout",
          "text": [
            "Training on fold 1...\n",
            "1/1 [==============================] - 0s 130ms/step - loss: 0.2116 - accuracy: 1.0000\n",
            "Accuracy on validation set: 1.0\n",
            "\n",
            "Training on fold 2...\n",
            "1/1 [==============================] - 0s 152ms/step - loss: 1.9537 - accuracy: 0.0000e+00\n",
            "Accuracy on validation set: 0.0\n",
            "\n",
            "Training on fold 3...\n",
            "1/1 [==============================] - 0s 133ms/step - loss: 0.7363 - accuracy: 0.0000e+00\n",
            "Accuracy on validation set: 0.0\n",
            "\n",
            "Training on fold 4...\n"
          ]
        },
        {
          "output_type": "stream",
          "name": "stderr",
          "text": [
            "WARNING:tensorflow:5 out of the last 317 calls to <function Model.make_test_function.<locals>.test_function at 0x79e6b0f9b760> triggered tf.function retracing. Tracing is expensive and the excessive number of tracings could be due to (1) creating @tf.function repeatedly in a loop, (2) passing tensors with different shapes, (3) passing Python objects instead of tensors. For (1), please define your @tf.function outside of the loop. For (2), @tf.function has reduce_retracing=True option that can avoid unnecessary retracing. For (3), please refer to https://www.tensorflow.org/guide/function#controlling_retracing and https://www.tensorflow.org/api_docs/python/tf/function for  more details.\n"
          ]
        },
        {
          "output_type": "stream",
          "name": "stdout",
          "text": [
            "1/1 [==============================] - 0s 144ms/step - loss: 0.0107 - accuracy: 1.0000\n",
            "Accuracy on validation set: 1.0\n",
            "\n"
          ]
        }
      ]
    },
    {
      "cell_type": "markdown",
      "source": [
        "# VC Dimension\n",
        "# Definition:\n",
        "VC (Vapnik-Chervonenkis) dimension is a measure of the capacity or complexity of a hypothesis set in machine learning. It represents the maximum number of points that a hypothesis set can shatter (separate into positive and negative classes) under all possible configurations of these points.\n",
        "\n",
        "# Understanding VC Dimension:\n",
        "The VC dimension provides insights into the learning capacity of a model or a family of models. A higher VC dimension generally implies a more complex model that can fit a wider range of training data patterns but may also increase the risk of overfitting."
      ],
      "metadata": {
        "id": "ZaVeTeQtbpSA"
      }
    },
    {
      "cell_type": "code",
      "source": [
        "import tensorflow as tf\n",
        "from tensorflow.keras.datasets import mnist\n",
        "from tensorflow.keras.models import Sequential\n",
        "from tensorflow.keras.layers import Dense, Flatten\n",
        "from tensorflow.keras.utils import to_categorical"
      ],
      "metadata": {
        "id": "JL7CC8ocbsfI"
      },
      "execution_count": null,
      "outputs": []
    },
    {
      "cell_type": "code",
      "source": [
        "# Load and preprocess MNIST dataset\n",
        "(X_train, y_train), (X_test, y_test) = mnist.load_data()\n",
        "\n",
        "# Normalize pixel values to be between 0 and 1\n",
        "X_train, X_test = X_train / 255.0, X_test / 255.0\n",
        "\n",
        "# Reshape images to flatten them into a 1D array (784 features)\n",
        "X_train = X_train.reshape((X_train.shape[0], -1))\n",
        "X_test = X_test.reshape((X_test.shape[0], -1))\n",
        "\n",
        "# Convert labels to categorical format (one-hot encoding)\n",
        "y_train = to_categorical(y_train, num_classes=10)\n",
        "y_test = to_categorical(y_test, num_classes=10)"
      ],
      "metadata": {
        "id": "GmRPFWocccln"
      },
      "execution_count": null,
      "outputs": []
    },
    {
      "cell_type": "code",
      "source": [
        "# Define the MLP model\n",
        "model = Sequential([\n",
        "    Dense(128, activation='relu', input_shape=(784,)),\n",
        "    Dense(64, activation='relu'),\n",
        "    Dense(10, activation='softmax')\n",
        "])\n",
        "\n",
        "# Compile the model\n",
        "model.compile(optimizer='adam',\n",
        "              loss='categorical_crossentropy',\n",
        "              metrics=['accuracy'])\n",
        "\n",
        "# Display model architecture\n",
        "model.summary()"
      ],
      "metadata": {
        "colab": {
          "base_uri": "https://localhost:8080/"
        },
        "id": "ori92fUEcd_v",
        "outputId": "f0108a1a-ed6d-449b-ddc3-8a689e9b73ea"
      },
      "execution_count": null,
      "outputs": [
        {
          "output_type": "stream",
          "name": "stdout",
          "text": [
            "Model: \"sequential_15\"\n",
            "_________________________________________________________________\n",
            " Layer (type)                Output Shape              Param #   \n",
            "=================================================================\n",
            " dense_26 (Dense)            (None, 128)               100480    \n",
            "                                                                 \n",
            " dense_27 (Dense)            (None, 64)                8256      \n",
            "                                                                 \n",
            " dense_28 (Dense)            (None, 10)                650       \n",
            "                                                                 \n",
            "=================================================================\n",
            "Total params: 109386 (427.29 KB)\n",
            "Trainable params: 109386 (427.29 KB)\n",
            "Non-trainable params: 0 (0.00 Byte)\n",
            "_________________________________________________________________\n"
          ]
        }
      ]
    },
    {
      "cell_type": "code",
      "source": [
        "# Train the model\n",
        "history = model.fit(X_train, y_train, epochs=10, batch_size=32, validation_split=0.1)\n",
        "\n",
        "# Evaluate the model on test data\n",
        "test_loss, test_accuracy = model.evaluate(X_test, y_test)\n",
        "print(f\"Test Accuracy: {test_accuracy}\")"
      ],
      "metadata": {
        "colab": {
          "base_uri": "https://localhost:8080/"
        },
        "id": "AZGsTRRwcfKP",
        "outputId": "4b80a3cd-b850-408a-b621-a3a5a79b2531"
      },
      "execution_count": null,
      "outputs": [
        {
          "output_type": "stream",
          "name": "stdout",
          "text": [
            "Epoch 1/10\n",
            "1685/1688 [============================>.] - ETA: 0s - loss: 0.2524 - accuracy: 0.9250"
          ]
        },
        {
          "output_type": "stream",
          "name": "stderr",
          "text": [
            "WARNING:tensorflow:6 out of the last 318 calls to <function Model.make_test_function.<locals>.test_function at 0x79e6ac34b010> triggered tf.function retracing. Tracing is expensive and the excessive number of tracings could be due to (1) creating @tf.function repeatedly in a loop, (2) passing tensors with different shapes, (3) passing Python objects instead of tensors. For (1), please define your @tf.function outside of the loop. For (2), @tf.function has reduce_retracing=True option that can avoid unnecessary retracing. For (3), please refer to https://www.tensorflow.org/guide/function#controlling_retracing and https://www.tensorflow.org/api_docs/python/tf/function for  more details.\n"
          ]
        },
        {
          "output_type": "stream",
          "name": "stdout",
          "text": [
            "\b\b\b\b\b\b\b\b\b\b\b\b\b\b\b\b\b\b\b\b\b\b\b\b\b\b\b\b\b\b\b\b\b\b\b\b\b\b\b\b\b\b\b\b\b\b\b\b\b\b\b\b\b\b\b\b\b\b\b\b\b\b\b\b\b\b\b\b\b\b\b\b\b\b\b\b\b\b\b\b\b\b\b\b\b\b\r1688/1688 [==============================] - 10s 6ms/step - loss: 0.2525 - accuracy: 0.9250 - val_loss: 0.1085 - val_accuracy: 0.9683\n",
            "Epoch 2/10\n",
            "1688/1688 [==============================] - 10s 6ms/step - loss: 0.1071 - accuracy: 0.9679 - val_loss: 0.1023 - val_accuracy: 0.9687\n",
            "Epoch 3/10\n",
            "1688/1688 [==============================] - 10s 6ms/step - loss: 0.0752 - accuracy: 0.9772 - val_loss: 0.0981 - val_accuracy: 0.9737\n",
            "Epoch 4/10\n",
            "1688/1688 [==============================] - 8s 5ms/step - loss: 0.0567 - accuracy: 0.9815 - val_loss: 0.0880 - val_accuracy: 0.9758\n",
            "Epoch 5/10\n",
            "1688/1688 [==============================] - 9s 6ms/step - loss: 0.0445 - accuracy: 0.9855 - val_loss: 0.0780 - val_accuracy: 0.9798\n",
            "Epoch 6/10\n",
            "1688/1688 [==============================] - 10s 6ms/step - loss: 0.0363 - accuracy: 0.9883 - val_loss: 0.0951 - val_accuracy: 0.9737\n",
            "Epoch 7/10\n",
            "1688/1688 [==============================] - 9s 5ms/step - loss: 0.0293 - accuracy: 0.9906 - val_loss: 0.0771 - val_accuracy: 0.9802\n",
            "Epoch 8/10\n",
            "1688/1688 [==============================] - 9s 6ms/step - loss: 0.0263 - accuracy: 0.9912 - val_loss: 0.1115 - val_accuracy: 0.9713\n",
            "Epoch 9/10\n",
            "1688/1688 [==============================] - 10s 6ms/step - loss: 0.0205 - accuracy: 0.9932 - val_loss: 0.0861 - val_accuracy: 0.9808\n",
            "Epoch 10/10\n",
            "1688/1688 [==============================] - 10s 6ms/step - loss: 0.0207 - accuracy: 0.9930 - val_loss: 0.1012 - val_accuracy: 0.9802\n",
            "313/313 [==============================] - 1s 2ms/step - loss: 0.0748 - accuracy: 0.9810\n",
            "Test Accuracy: 0.9810000061988831\n"
          ]
        }
      ]
    },
    {
      "cell_type": "code",
      "source": [
        "import matplotlib.pyplot as plt\n",
        "\n",
        "# Plot training history\n",
        "plt.plot(history.history['accuracy'], label='Training Accuracy')\n",
        "plt.plot(history.history['val_accuracy'], label='Validation Accuracy')\n",
        "plt.xlabel('Epoch')\n",
        "plt.ylabel('Accuracy')\n",
        "plt.legend()\n",
        "plt.show()"
      ],
      "metadata": {
        "id": "Utogat-ucgwZ"
      },
      "execution_count": null,
      "outputs": []
    },
    {
      "cell_type": "markdown",
      "source": [
        "#VC Dimension of MLPs: Key Considerations\n",
        "#Model Complexity and Representation:\n",
        "\n",
        "* MLPs are capable of representing complex, non-linear decision boundaries due to their layered architecture and activation functions.\n",
        "* The VC dimension of an MLP depends on factors such as the number of neurons per layer, number of layers, and the choice of activation functions.\n",
        "\n",
        "#Combinatorial Complexity:\n",
        "\n",
        "* Calculating the exact VC dimension for MLPs is challenging due to the high-dimensional input space and the non-linear nature of neural network decision boundaries.\n",
        "* The VC dimension increases with the network's capacity to fit diverse patterns in the data, determined by the interplay of network architecture and parameter space.\n",
        "\n",
        "# Network Architecture:\n",
        "\n",
        "* Increasing the number of neurons per layer or adding more layers generally increases the VC dimension, as the network gains more flexibility to represent complex functions.\n",
        "* Deeper networks can capture hierarchical features but may also lead to higher VC dimension and increased risk of overfitting.\n",
        "\n",
        "# Estimating VC Dimension\n",
        "Estimating the VC dimension of MLPs involves theoretical analysis and empirical validation:\n",
        "\n",
        "* Theoretical Bounds: The VC dimension can be bounded based on the number of parameters (weights and biases) in the network and the expressive power of the activation functions.\n",
        "* Empirical Analysis: Conducting experiments with synthetic datasets to test the shattering capabilities of MLPs under different configurations of input points and labels."
      ],
      "metadata": {
        "id": "4hyUDyX6c5XI"
      }
    },
    {
      "cell_type": "markdown",
      "source": [
        "#Perceptron\n"
      ],
      "metadata": {
        "id": "QDmyZp4yeCgI"
      }
    },
    {
      "cell_type": "markdown",
      "source": [
        "A perceptron is the simplest form of a neural network, typically used for binary classification tasks. It consists of a single layer of input nodes (each representing an input feature), followed by a set of weights and a bias. The perceptron calculates a weighted sum of its inputs and applies an activation function (e.g., step function) to produce a binary output.\n"
      ],
      "metadata": {
        "id": "_vA12kbMeC6w"
      }
    },
    {
      "cell_type": "code",
      "source": [
        "import tensorflow as tf\n",
        "import numpy as np\n",
        "\n",
        "# Synthetic dataset\n",
        "X = np.array([[0, 0], [0, 1], [1, 0], [1, 1]], dtype=np.float32)\n",
        "y = np.array([0, 0, 0, 1], dtype=np.float32)\n",
        "\n",
        "# Define perceptron model\n",
        "model = tf.keras.Sequential([\n",
        "    tf.keras.layers.Dense(1, activation='sigmoid', input_shape=(2,))\n",
        "])\n",
        "\n",
        "model.compile(optimizer='sgd', loss='binary_crossentropy', metrics=['accuracy'])\n",
        "\n",
        "# Train the perceptron\n",
        "model.fit(X, y, epochs=100, verbose=1)\n",
        "\n",
        "# Test the perceptron\n",
        "predictions = model.predict(X)\n",
        "print(predictions)"
      ],
      "metadata": {
        "colab": {
          "base_uri": "https://localhost:8080/"
        },
        "id": "oph63T5ceH0w",
        "outputId": "b679d213-0481-48db-beec-459940a37f34"
      },
      "execution_count": null,
      "outputs": [
        {
          "output_type": "stream",
          "name": "stdout",
          "text": [
            "Epoch 1/100\n",
            "1/1 [==============================] - 1s 513ms/step - loss: 0.7030 - accuracy: 0.5000\n",
            "Epoch 2/100\n",
            "1/1 [==============================] - 0s 18ms/step - loss: 0.7025 - accuracy: 0.5000\n",
            "Epoch 3/100\n",
            "1/1 [==============================] - 0s 18ms/step - loss: 0.7020 - accuracy: 0.5000\n",
            "Epoch 4/100\n",
            "1/1 [==============================] - 0s 21ms/step - loss: 0.7015 - accuracy: 0.5000\n",
            "Epoch 5/100\n",
            "1/1 [==============================] - 0s 20ms/step - loss: 0.7010 - accuracy: 0.5000\n",
            "Epoch 6/100\n",
            "1/1 [==============================] - 0s 15ms/step - loss: 0.7005 - accuracy: 0.5000\n",
            "Epoch 7/100\n",
            "1/1 [==============================] - 0s 17ms/step - loss: 0.7000 - accuracy: 0.5000\n",
            "Epoch 8/100\n",
            "1/1 [==============================] - 0s 16ms/step - loss: 0.6994 - accuracy: 0.5000\n",
            "Epoch 9/100\n",
            "1/1 [==============================] - 0s 17ms/step - loss: 0.6989 - accuracy: 0.5000\n",
            "Epoch 10/100\n",
            "1/1 [==============================] - 0s 15ms/step - loss: 0.6984 - accuracy: 0.5000\n",
            "Epoch 11/100\n",
            "1/1 [==============================] - 0s 18ms/step - loss: 0.6979 - accuracy: 0.5000\n",
            "Epoch 12/100\n",
            "1/1 [==============================] - 0s 12ms/step - loss: 0.6974 - accuracy: 0.5000\n",
            "Epoch 13/100\n",
            "1/1 [==============================] - 0s 25ms/step - loss: 0.6969 - accuracy: 0.5000\n",
            "Epoch 14/100\n",
            "1/1 [==============================] - 0s 17ms/step - loss: 0.6964 - accuracy: 0.5000\n",
            "Epoch 15/100\n",
            "1/1 [==============================] - 0s 15ms/step - loss: 0.6959 - accuracy: 0.5000\n",
            "Epoch 16/100\n",
            "1/1 [==============================] - 0s 13ms/step - loss: 0.6955 - accuracy: 0.5000\n",
            "Epoch 17/100\n",
            "1/1 [==============================] - 0s 15ms/step - loss: 0.6950 - accuracy: 0.5000\n",
            "Epoch 18/100\n",
            "1/1 [==============================] - 0s 15ms/step - loss: 0.6945 - accuracy: 0.5000\n",
            "Epoch 19/100\n",
            "1/1 [==============================] - 0s 16ms/step - loss: 0.6940 - accuracy: 0.5000\n",
            "Epoch 20/100\n",
            "1/1 [==============================] - 0s 16ms/step - loss: 0.6935 - accuracy: 0.5000\n",
            "Epoch 21/100\n",
            "1/1 [==============================] - 0s 13ms/step - loss: 0.6930 - accuracy: 0.5000\n",
            "Epoch 22/100\n",
            "1/1 [==============================] - 0s 17ms/step - loss: 0.6925 - accuracy: 0.5000\n",
            "Epoch 23/100\n",
            "1/1 [==============================] - 0s 14ms/step - loss: 0.6921 - accuracy: 0.5000\n",
            "Epoch 24/100\n",
            "1/1 [==============================] - 0s 14ms/step - loss: 0.6916 - accuracy: 0.5000\n",
            "Epoch 25/100\n",
            "1/1 [==============================] - 0s 13ms/step - loss: 0.6911 - accuracy: 0.5000\n",
            "Epoch 26/100\n",
            "1/1 [==============================] - 0s 14ms/step - loss: 0.6906 - accuracy: 0.5000\n",
            "Epoch 27/100\n",
            "1/1 [==============================] - 0s 14ms/step - loss: 0.6902 - accuracy: 0.5000\n",
            "Epoch 28/100\n",
            "1/1 [==============================] - 0s 12ms/step - loss: 0.6897 - accuracy: 0.5000\n",
            "Epoch 29/100\n",
            "1/1 [==============================] - 0s 14ms/step - loss: 0.6892 - accuracy: 0.5000\n",
            "Epoch 30/100\n",
            "1/1 [==============================] - 0s 14ms/step - loss: 0.6888 - accuracy: 0.5000\n",
            "Epoch 31/100\n",
            "1/1 [==============================] - 0s 15ms/step - loss: 0.6883 - accuracy: 0.5000\n",
            "Epoch 32/100\n",
            "1/1 [==============================] - 0s 14ms/step - loss: 0.6878 - accuracy: 0.5000\n",
            "Epoch 33/100\n",
            "1/1 [==============================] - 0s 13ms/step - loss: 0.6874 - accuracy: 0.5000\n",
            "Epoch 34/100\n",
            "1/1 [==============================] - 0s 16ms/step - loss: 0.6869 - accuracy: 0.5000\n",
            "Epoch 35/100\n",
            "1/1 [==============================] - 0s 16ms/step - loss: 0.6864 - accuracy: 0.5000\n",
            "Epoch 36/100\n",
            "1/1 [==============================] - 0s 16ms/step - loss: 0.6860 - accuracy: 0.5000\n",
            "Epoch 37/100\n",
            "1/1 [==============================] - 0s 15ms/step - loss: 0.6855 - accuracy: 0.5000\n",
            "Epoch 38/100\n",
            "1/1 [==============================] - 0s 13ms/step - loss: 0.6851 - accuracy: 0.5000\n",
            "Epoch 39/100\n",
            "1/1 [==============================] - 0s 14ms/step - loss: 0.6846 - accuracy: 0.5000\n",
            "Epoch 40/100\n",
            "1/1 [==============================] - 0s 15ms/step - loss: 0.6842 - accuracy: 0.5000\n",
            "Epoch 41/100\n",
            "1/1 [==============================] - 0s 13ms/step - loss: 0.6837 - accuracy: 0.5000\n",
            "Epoch 42/100\n",
            "1/1 [==============================] - 0s 13ms/step - loss: 0.6833 - accuracy: 0.5000\n",
            "Epoch 43/100\n",
            "1/1 [==============================] - 0s 14ms/step - loss: 0.6828 - accuracy: 0.5000\n",
            "Epoch 44/100\n",
            "1/1 [==============================] - 0s 17ms/step - loss: 0.6824 - accuracy: 0.5000\n",
            "Epoch 45/100\n",
            "1/1 [==============================] - 0s 14ms/step - loss: 0.6819 - accuracy: 0.5000\n",
            "Epoch 46/100\n",
            "1/1 [==============================] - 0s 15ms/step - loss: 0.6815 - accuracy: 0.5000\n",
            "Epoch 47/100\n",
            "1/1 [==============================] - 0s 14ms/step - loss: 0.6811 - accuracy: 0.5000\n",
            "Epoch 48/100\n",
            "1/1 [==============================] - 0s 14ms/step - loss: 0.6806 - accuracy: 0.5000\n",
            "Epoch 49/100\n",
            "1/1 [==============================] - 0s 18ms/step - loss: 0.6802 - accuracy: 0.5000\n",
            "Epoch 50/100\n",
            "1/1 [==============================] - 0s 19ms/step - loss: 0.6798 - accuracy: 0.5000\n",
            "Epoch 51/100\n",
            "1/1 [==============================] - 0s 19ms/step - loss: 0.6793 - accuracy: 0.5000\n",
            "Epoch 52/100\n",
            "1/1 [==============================] - 0s 17ms/step - loss: 0.6789 - accuracy: 0.5000\n",
            "Epoch 53/100\n",
            "1/1 [==============================] - 0s 15ms/step - loss: 0.6785 - accuracy: 0.5000\n",
            "Epoch 54/100\n",
            "1/1 [==============================] - 0s 14ms/step - loss: 0.6780 - accuracy: 0.5000\n",
            "Epoch 55/100\n",
            "1/1 [==============================] - 0s 14ms/step - loss: 0.6776 - accuracy: 0.5000\n",
            "Epoch 56/100\n",
            "1/1 [==============================] - 0s 13ms/step - loss: 0.6772 - accuracy: 0.5000\n",
            "Epoch 57/100\n",
            "1/1 [==============================] - 0s 13ms/step - loss: 0.6767 - accuracy: 0.5000\n",
            "Epoch 58/100\n",
            "1/1 [==============================] - 0s 14ms/step - loss: 0.6763 - accuracy: 0.5000\n",
            "Epoch 59/100\n",
            "1/1 [==============================] - 0s 16ms/step - loss: 0.6759 - accuracy: 0.5000\n",
            "Epoch 60/100\n",
            "1/1 [==============================] - 0s 15ms/step - loss: 0.6755 - accuracy: 0.5000\n",
            "Epoch 61/100\n",
            "1/1 [==============================] - 0s 14ms/step - loss: 0.6751 - accuracy: 0.5000\n",
            "Epoch 62/100\n",
            "1/1 [==============================] - 0s 12ms/step - loss: 0.6746 - accuracy: 0.5000\n",
            "Epoch 63/100\n",
            "1/1 [==============================] - 0s 21ms/step - loss: 0.6742 - accuracy: 0.5000\n",
            "Epoch 64/100\n",
            "1/1 [==============================] - 0s 17ms/step - loss: 0.6738 - accuracy: 0.5000\n",
            "Epoch 65/100\n",
            "1/1 [==============================] - 0s 14ms/step - loss: 0.6734 - accuracy: 0.5000\n",
            "Epoch 66/100\n",
            "1/1 [==============================] - 0s 14ms/step - loss: 0.6730 - accuracy: 0.5000\n",
            "Epoch 67/100\n",
            "1/1 [==============================] - 0s 12ms/step - loss: 0.6726 - accuracy: 0.5000\n",
            "Epoch 68/100\n",
            "1/1 [==============================] - 0s 13ms/step - loss: 0.6722 - accuracy: 0.5000\n",
            "Epoch 69/100\n",
            "1/1 [==============================] - 0s 12ms/step - loss: 0.6718 - accuracy: 0.5000\n",
            "Epoch 70/100\n",
            "1/1 [==============================] - 0s 12ms/step - loss: 0.6713 - accuracy: 0.5000\n",
            "Epoch 71/100\n",
            "1/1 [==============================] - 0s 12ms/step - loss: 0.6709 - accuracy: 0.5000\n",
            "Epoch 72/100\n",
            "1/1 [==============================] - 0s 13ms/step - loss: 0.6705 - accuracy: 0.5000\n",
            "Epoch 73/100\n",
            "1/1 [==============================] - 0s 13ms/step - loss: 0.6701 - accuracy: 0.5000\n",
            "Epoch 74/100\n",
            "1/1 [==============================] - 0s 16ms/step - loss: 0.6697 - accuracy: 0.5000\n",
            "Epoch 75/100\n",
            "1/1 [==============================] - 0s 13ms/step - loss: 0.6693 - accuracy: 0.5000\n",
            "Epoch 76/100\n",
            "1/1 [==============================] - 0s 14ms/step - loss: 0.6689 - accuracy: 0.5000\n",
            "Epoch 77/100\n",
            "1/1 [==============================] - 0s 14ms/step - loss: 0.6685 - accuracy: 0.5000\n",
            "Epoch 78/100\n",
            "1/1 [==============================] - 0s 14ms/step - loss: 0.6681 - accuracy: 0.5000\n",
            "Epoch 79/100\n",
            "1/1 [==============================] - 0s 14ms/step - loss: 0.6677 - accuracy: 0.5000\n",
            "Epoch 80/100\n",
            "1/1 [==============================] - 0s 14ms/step - loss: 0.6673 - accuracy: 0.5000\n",
            "Epoch 81/100\n",
            "1/1 [==============================] - 0s 14ms/step - loss: 0.6670 - accuracy: 0.5000\n",
            "Epoch 82/100\n",
            "1/1 [==============================] - 0s 15ms/step - loss: 0.6666 - accuracy: 0.5000\n",
            "Epoch 83/100\n",
            "1/1 [==============================] - 0s 13ms/step - loss: 0.6662 - accuracy: 0.5000\n",
            "Epoch 84/100\n",
            "1/1 [==============================] - 0s 15ms/step - loss: 0.6658 - accuracy: 0.5000\n",
            "Epoch 85/100\n",
            "1/1 [==============================] - 0s 14ms/step - loss: 0.6654 - accuracy: 0.5000\n",
            "Epoch 86/100\n",
            "1/1 [==============================] - 0s 17ms/step - loss: 0.6650 - accuracy: 0.5000\n",
            "Epoch 87/100\n",
            "1/1 [==============================] - 0s 16ms/step - loss: 0.6646 - accuracy: 0.5000\n",
            "Epoch 88/100\n",
            "1/1 [==============================] - 0s 14ms/step - loss: 0.6642 - accuracy: 0.5000\n",
            "Epoch 89/100\n",
            "1/1 [==============================] - 0s 15ms/step - loss: 0.6638 - accuracy: 0.5000\n",
            "Epoch 90/100\n",
            "1/1 [==============================] - 0s 14ms/step - loss: 0.6635 - accuracy: 0.5000\n",
            "Epoch 91/100\n",
            "1/1 [==============================] - 0s 14ms/step - loss: 0.6631 - accuracy: 0.5000\n",
            "Epoch 92/100\n",
            "1/1 [==============================] - 0s 18ms/step - loss: 0.6627 - accuracy: 0.5000\n",
            "Epoch 93/100\n",
            "1/1 [==============================] - 0s 14ms/step - loss: 0.6623 - accuracy: 0.5000\n",
            "Epoch 94/100\n",
            "1/1 [==============================] - 0s 14ms/step - loss: 0.6619 - accuracy: 0.5000\n",
            "Epoch 95/100\n",
            "1/1 [==============================] - 0s 15ms/step - loss: 0.6616 - accuracy: 0.5000\n",
            "Epoch 96/100\n",
            "1/1 [==============================] - 0s 13ms/step - loss: 0.6612 - accuracy: 0.5000\n",
            "Epoch 97/100\n",
            "1/1 [==============================] - 0s 14ms/step - loss: 0.6608 - accuracy: 0.5000\n",
            "Epoch 98/100\n",
            "1/1 [==============================] - 0s 12ms/step - loss: 0.6604 - accuracy: 0.5000\n",
            "Epoch 99/100\n",
            "1/1 [==============================] - 0s 13ms/step - loss: 0.6601 - accuracy: 0.5000\n",
            "Epoch 100/100\n",
            "1/1 [==============================] - 0s 13ms/step - loss: 0.6597 - accuracy: 0.5000\n",
            "1/1 [==============================] - 0s 151ms/step\n",
            "[[0.44961137]\n",
            " [0.5145324 ]\n",
            " [0.3516362 ]\n",
            " [0.41302657]]\n"
          ]
        }
      ]
    },
    {
      "cell_type": "code",
      "source": [
        "import numpy as np\n",
        "import matplotlib.pyplot as plt\n",
        "from sklearn.datasets import load_iris\n",
        "from sklearn.model_selection import train_test_split\n",
        "from sklearn.preprocessing import StandardScaler\n",
        "from sklearn.linear_model import Perceptron, LogisticRegression\n",
        "from sklearn.metrics import accuracy_score, confusion_matrix"
      ],
      "metadata": {
        "id": "2l6awIAmeLWA"
      },
      "execution_count": null,
      "outputs": []
    },
    {
      "cell_type": "code",
      "source": [
        "# Load the IRIS dataset\n",
        "iris = load_iris()\n",
        "X = iris.data\n",
        "y = iris.target\n",
        "\n",
        "# Split the dataset into training and testing sets\n",
        "X_train, X_test, y_train, y_test = train_test_split(X, y, test_size=0.2, random_state=42)\n",
        "\n",
        "# Standardize features by removing the mean and scaling to unit variance\n",
        "scaler = StandardScaler()\n",
        "X_train_scaled = scaler.fit_transform(X_train)\n",
        "X_test_scaled = scaler.transform(X_test)"
      ],
      "metadata": {
        "id": "WF9KmWnEeRqA"
      },
      "execution_count": null,
      "outputs": []
    },
    {
      "cell_type": "code",
      "source": [
        "# Create and train the Perceptron classifier\n",
        "perceptron = Perceptron(random_state=42)\n",
        "perceptron.fit(X_train_scaled, y_train)\n",
        "\n",
        "# Predict on the test set\n",
        "y_pred_perceptron = perceptron.predict(X_test_scaled)\n",
        "\n",
        "# Evaluate accuracy\n",
        "accuracy_perceptron = accuracy_score(y_test, y_pred_perceptron)\n",
        "print(\"Perceptron Accuracy:\", accuracy_perceptron)\n",
        "\n",
        "# Confusion matrix\n",
        "cm_perceptron = confusion_matrix(y_test, y_pred_perceptron)\n",
        "print(\"Perceptron Confusion Matrix:\")\n",
        "print(cm_perceptron)"
      ],
      "metadata": {
        "colab": {
          "base_uri": "https://localhost:8080/"
        },
        "id": "6dd9w7UyeTVQ",
        "outputId": "ec22a16a-f541-4d29-b4fa-1d5d0ff95595"
      },
      "execution_count": null,
      "outputs": [
        {
          "output_type": "stream",
          "name": "stdout",
          "text": [
            "Perceptron Accuracy: 0.9333333333333333\n",
            "Perceptron Confusion Matrix:\n",
            "[[10  0  0]\n",
            " [ 0  9  0]\n",
            " [ 0  2  9]]\n"
          ]
        }
      ]
    },
    {
      "cell_type": "code",
      "source": [
        "# Create and train the Logistic Regression classifier\n",
        "logistic_regression = LogisticRegression(random_state=42, max_iter=200)\n",
        "logistic_regression.fit(X_train_scaled, y_train)\n",
        "\n",
        "# Predict on the test set\n",
        "y_pred_logistic = logistic_regression.predict(X_test_scaled)\n",
        "\n",
        "# Evaluate accuracy\n",
        "accuracy_logistic = accuracy_score(y_test, y_pred_logistic)\n",
        "print(\"Logistic Regression Accuracy:\", accuracy_logistic)\n",
        "\n",
        "# Confusion matrix\n",
        "cm_logistic = confusion_matrix(y_test, y_pred_logistic)\n",
        "print(\"Logistic Regression Confusion Matrix:\")\n",
        "print(cm_logistic)"
      ],
      "metadata": {
        "colab": {
          "base_uri": "https://localhost:8080/"
        },
        "id": "l5yEOEfdeV1Q",
        "outputId": "aefa8125-3f94-4c68-8224-75fc51cd9a3f"
      },
      "execution_count": null,
      "outputs": [
        {
          "output_type": "stream",
          "name": "stdout",
          "text": [
            "Logistic Regression Accuracy: 1.0\n",
            "Logistic Regression Confusion Matrix:\n",
            "[[10  0  0]\n",
            " [ 0  9  0]\n",
            " [ 0  0 11]]\n"
          ]
        }
      ]
    },
    {
      "cell_type": "code",
      "source": [
        "# Plot decision boundaries for Perceptron\n",
        "plt.figure(figsize=(10, 5))\n",
        "plt.subplot(1, 2, 1)\n",
        "plt.title(\"Perceptron Decision Boundaries\")\n",
        "plt.xlabel(\"Sepal Length (scaled)\")\n",
        "plt.ylabel(\"Sepal Width (scaled)\")\n",
        "plt.scatter(X_test_scaled[:, 0], X_test_scaled[:, 1], c=y_pred_perceptron, cmap='viridis')\n",
        "plt.colorbar(label='Predicted Class')\n",
        "\n",
        "# Plot decision boundaries for Logistic Regression\n",
        "plt.subplot(1, 2, 2)\n",
        "plt.title(\"Logistic Regression Decision Boundaries\")\n",
        "plt.xlabel(\"Sepal Length (scaled)\")\n",
        "plt.ylabel(\"Sepal Width (scaled)\")\n",
        "plt.scatter(X_test_scaled[:, 0], X_test_scaled[:, 1], c=y_pred_logistic, cmap='viridis')\n",
        "plt.colorbar(label='Predicted Class')\n",
        "\n",
        "plt.tight_layout()\n",
        "plt.show()\n"
      ],
      "metadata": {
        "colab": {
          "base_uri": "https://localhost:8080/",
          "height": 507
        },
        "id": "t__3utGUeYeo",
        "outputId": "a8be5d60-093d-45e8-e319-6a01211219d6"
      },
      "execution_count": null,
      "outputs": [
        {
          "output_type": "display_data",
          "data": {
            "text/plain": [
              "<Figure size 1000x500 with 4 Axes>"
            ],
            "image/png": "[encoded data removed]"
          },
          "metadata": {}
        }
      ]
    },
    {
      "cell_type": "markdown",
      "source": [
        "#Let's simulate the Logistic Classifier approach to the Perceptron"
      ],
      "metadata": {
        "id": "4OPcoT4leqlQ"
      }
    },
    {
      "cell_type": "code",
      "source": [
        "from sklearn.linear_model import Perceptron\n",
        "from sklearn.datasets import load_iris\n",
        "from sklearn.model_selection import train_test_split\n",
        "from sklearn.preprocessing import StandardScaler\n",
        "from sklearn.metrics import accuracy_score, confusion_matrix\n",
        "\n",
        "# Load the IRIS dataset\n",
        "iris = load_iris()\n",
        "X = iris.data\n",
        "y = iris.target\n",
        "\n",
        "# Split the dataset into training and testing sets\n",
        "X_train, X_test, y_train, y_test = train_test_split(X, y, test_size=0.2, random_state=42)\n",
        "\n",
        "# Standardize features by removing the mean and scaling to unit variance\n",
        "scaler = StandardScaler()\n",
        "X_train_scaled = scaler.fit_transform(X_train)\n",
        "X_test_scaled = scaler.transform(X_test)\n",
        "\n",
        "# Create and train the Perceptron with modified hyperparameters\n",
        "perceptron = Perceptron(max_iter=100, eta0=0.1, random_state=42)  # Increase max_iter and adjust eta0\n",
        "perceptron.fit(X_train_scaled, y_train)\n",
        "\n",
        "# Predict on the test set\n",
        "y_pred_perceptron = perceptron.predict(X_test_scaled)\n",
        "\n",
        "# Evaluate accuracy\n",
        "accuracy_perceptron = accuracy_score(y_test, y_pred_perceptron)\n",
        "print(\"Perceptron Accuracy:\", accuracy_perceptron)\n",
        "\n",
        "# Confusion matrix\n",
        "cm_perceptron = confusion_matrix(y_test, y_pred_perceptron)\n",
        "print(\"Perceptron Confusion Matrix:\")\n",
        "print(cm_perceptron)"
      ],
      "metadata": {
        "colab": {
          "base_uri": "https://localhost:8080/"
        },
        "id": "ZIF54ESDemS_",
        "outputId": "6d71e85f-92ac-405c-94b5-9ea5a43f9ff6"
      },
      "execution_count": null,
      "outputs": [
        {
          "output_type": "stream",
          "name": "stdout",
          "text": [
            "Perceptron Accuracy: 0.9333333333333333\n",
            "Perceptron Confusion Matrix:\n",
            "[[10  0  0]\n",
            " [ 0  9  0]\n",
            " [ 0  2  9]]\n"
          ]
        }
      ]
    },
    {
      "cell_type": "code",
      "source": [
        "import tensorflow as tf\n",
        "from sklearn.datasets import load_iris\n",
        "from sklearn.model_selection import train_test_split\n",
        "from sklearn.preprocessing import StandardScaler\n",
        "from sklearn.metrics import accuracy_score, confusion_matrix\n",
        "\n",
        "# Load the IRIS dataset\n",
        "iris = load_iris()\n",
        "X = iris.data\n",
        "y = iris.target\n",
        "\n",
        "# Split the dataset into training and testing sets\n",
        "X_train, X_test, y_train, y_test = train_test_split(X, y, test_size=0.2, random_state=42)\n",
        "\n",
        "# Standardize features by removing the mean and scaling to unit variance\n",
        "scaler = StandardScaler()\n",
        "X_train_scaled = scaler.fit_transform(X_train)\n",
        "X_test_scaled = scaler.transform(X_test)\n",
        "\n",
        "# Build the Perceptron-like logistic classifier using TensorFlow\n",
        "model = tf.keras.Sequential([\n",
        "    tf.keras.layers.Dense(1, activation='sigmoid', input_shape=(X_train_scaled.shape[1],))\n",
        "])\n",
        "\n",
        "# Compile the model\n",
        "model.compile(optimizer='sgd', loss='binary_crossentropy', metrics=['accuracy'])\n",
        "\n",
        "# Display the model architecture\n",
        "model.summary()"
      ],
      "metadata": {
        "colab": {
          "base_uri": "https://localhost:8080/"
        },
        "id": "Lqhc1KkPe1oI",
        "outputId": "de4a9832-c52f-4403-d780-b00ac65db61d"
      },
      "execution_count": null,
      "outputs": [
        {
          "output_type": "stream",
          "name": "stdout",
          "text": [
            "Model: \"sequential_18\"\n",
            "_________________________________________________________________\n",
            " Layer (type)                Output Shape              Param #   \n",
            "=================================================================\n",
            " dense_31 (Dense)            (None, 1)                 5         \n",
            "                                                                 \n",
            "=================================================================\n",
            "Total params: 5 (20.00 Byte)\n",
            "Trainable params: 5 (20.00 Byte)\n",
            "Non-trainable params: 0 (0.00 Byte)\n",
            "_________________________________________________________________\n"
          ]
        }
      ]
    },
    {
      "cell_type": "code",
      "source": [
        "# Train the model\n",
        "model.fit(X_train_scaled, y_train, epochs=50, verbose=1)\n",
        "\n",
        "# Evaluate the model on the test set\n",
        "y_pred_proba = model.predict(X_test_scaled)  # Predict probabilities\n",
        "y_pred = (y_pred_proba > 0.5).astype(int).flatten()  # Convert probabilities to binary predictions\n",
        "\n",
        "# Evaluate accuracy\n",
        "accuracy = accuracy_score(y_test, y_pred)\n",
        "print(\"Accuracy:\", accuracy)\n",
        "\n",
        "# Confusion matrix\n",
        "cm = confusion_matrix(y_test, y_pred)\n",
        "print(\"Confusion Matrix:\")\n",
        "print(cm)"
      ],
      "metadata": {
        "colab": {
          "base_uri": "https://localhost:8080/"
        },
        "id": "b7PObdNre3RQ",
        "outputId": "a6650023-e826-4f2b-a851-431e1a6a0b83"
      },
      "execution_count": null,
      "outputs": [
        {
          "output_type": "stream",
          "name": "stdout",
          "text": [
            "Epoch 1/50\n",
            "4/4 [==============================] - 1s 8ms/step - loss: -0.2885 - accuracy: 0.5000\n",
            "Epoch 2/50\n",
            "4/4 [==============================] - 0s 7ms/step - loss: -0.3247 - accuracy: 0.5083\n",
            "Epoch 3/50\n",
            "4/4 [==============================] - 0s 6ms/step - loss: -0.3606 - accuracy: 0.5167\n",
            "Epoch 4/50\n",
            "4/4 [==============================] - 0s 7ms/step - loss: -0.3960 - accuracy: 0.5167\n",
            "Epoch 5/50\n",
            "4/4 [==============================] - 0s 7ms/step - loss: -0.4301 - accuracy: 0.5250\n",
            "Epoch 6/50\n",
            "4/4 [==============================] - 0s 8ms/step - loss: -0.4642 - accuracy: 0.5250\n",
            "Epoch 7/50\n",
            "4/4 [==============================] - 0s 7ms/step - loss: -0.4970 - accuracy: 0.5250\n",
            "Epoch 8/50\n",
            "4/4 [==============================] - 0s 9ms/step - loss: -0.5294 - accuracy: 0.5250\n",
            "Epoch 9/50\n",
            "4/4 [==============================] - 0s 10ms/step - loss: -0.5615 - accuracy: 0.5250\n",
            "Epoch 10/50\n",
            "4/4 [==============================] - 0s 7ms/step - loss: -0.5937 - accuracy: 0.5250\n",
            "Epoch 11/50\n",
            "4/4 [==============================] - 0s 6ms/step - loss: -0.6252 - accuracy: 0.5250\n",
            "Epoch 12/50\n",
            "4/4 [==============================] - 0s 6ms/step - loss: -0.6558 - accuracy: 0.5250\n",
            "Epoch 13/50\n",
            "4/4 [==============================] - 0s 7ms/step - loss: -0.6856 - accuracy: 0.5417\n",
            "Epoch 14/50\n",
            "4/4 [==============================] - 0s 7ms/step - loss: -0.7151 - accuracy: 0.5417\n",
            "Epoch 15/50\n",
            "4/4 [==============================] - 0s 7ms/step - loss: -0.7448 - accuracy: 0.5417\n",
            "Epoch 16/50\n",
            "4/4 [==============================] - 0s 7ms/step - loss: -0.7743 - accuracy: 0.5500\n",
            "Epoch 17/50\n",
            "4/4 [==============================] - 0s 7ms/step - loss: -0.8028 - accuracy: 0.5500\n",
            "Epoch 18/50\n",
            "4/4 [==============================] - 0s 8ms/step - loss: -0.8300 - accuracy: 0.5500\n",
            "Epoch 19/50\n",
            "4/4 [==============================] - 0s 9ms/step - loss: -0.8577 - accuracy: 0.5500\n",
            "Epoch 20/50\n",
            "4/4 [==============================] - 0s 8ms/step - loss: -0.8851 - accuracy: 0.5500\n",
            "Epoch 21/50\n",
            "4/4 [==============================] - 0s 7ms/step - loss: -0.9122 - accuracy: 0.5583\n",
            "Epoch 22/50\n",
            "4/4 [==============================] - 0s 7ms/step - loss: -0.9387 - accuracy: 0.5583\n",
            "Epoch 23/50\n",
            "4/4 [==============================] - 0s 7ms/step - loss: -0.9653 - accuracy: 0.5583\n",
            "Epoch 24/50\n",
            "4/4 [==============================] - 0s 8ms/step - loss: -0.9914 - accuracy: 0.5583\n",
            "Epoch 25/50\n",
            "4/4 [==============================] - 0s 12ms/step - loss: -1.0170 - accuracy: 0.5583\n",
            "Epoch 26/50\n",
            "4/4 [==============================] - 0s 11ms/step - loss: -1.0426 - accuracy: 0.5583\n",
            "Epoch 27/50\n",
            "4/4 [==============================] - 0s 7ms/step - loss: -1.0683 - accuracy: 0.5667\n",
            "Epoch 28/50\n",
            "4/4 [==============================] - 0s 7ms/step - loss: -1.0937 - accuracy: 0.5667\n",
            "Epoch 29/50\n",
            "4/4 [==============================] - 0s 6ms/step - loss: -1.1186 - accuracy: 0.5667\n",
            "Epoch 30/50\n",
            "4/4 [==============================] - 0s 8ms/step - loss: -1.1430 - accuracy: 0.5667\n",
            "Epoch 31/50\n",
            "4/4 [==============================] - 0s 8ms/step - loss: -1.1671 - accuracy: 0.5667\n",
            "Epoch 32/50\n",
            "4/4 [==============================] - 0s 7ms/step - loss: -1.1910 - accuracy: 0.5750\n",
            "Epoch 33/50\n",
            "4/4 [==============================] - 0s 8ms/step - loss: -1.2148 - accuracy: 0.5750\n",
            "Epoch 34/50\n",
            "4/4 [==============================] - 0s 9ms/step - loss: -1.2382 - accuracy: 0.5833\n",
            "Epoch 35/50\n",
            "4/4 [==============================] - 0s 8ms/step - loss: -1.2619 - accuracy: 0.5833\n",
            "Epoch 36/50\n",
            "4/4 [==============================] - 0s 7ms/step - loss: -1.2854 - accuracy: 0.5833\n",
            "Epoch 37/50\n",
            "4/4 [==============================] - 0s 24ms/step - loss: -1.3083 - accuracy: 0.5833\n",
            "Epoch 38/50\n",
            "4/4 [==============================] - 0s 8ms/step - loss: -1.3314 - accuracy: 0.5833\n",
            "Epoch 39/50\n",
            "4/4 [==============================] - 0s 8ms/step - loss: -1.3546 - accuracy: 0.5917\n",
            "Epoch 40/50\n",
            "4/4 [==============================] - 0s 7ms/step - loss: -1.3779 - accuracy: 0.5917\n",
            "Epoch 41/50\n",
            "4/4 [==============================] - 0s 7ms/step - loss: -1.4006 - accuracy: 0.6000\n",
            "Epoch 42/50\n",
            "4/4 [==============================] - 0s 9ms/step - loss: -1.4233 - accuracy: 0.6000\n",
            "Epoch 43/50\n",
            "4/4 [==============================] - 0s 7ms/step - loss: -1.4458 - accuracy: 0.6000\n",
            "Epoch 44/50\n",
            "4/4 [==============================] - 0s 10ms/step - loss: -1.4682 - accuracy: 0.6000\n",
            "Epoch 45/50\n",
            "4/4 [==============================] - 0s 7ms/step - loss: -1.4904 - accuracy: 0.6000\n",
            "Epoch 46/50\n",
            "4/4 [==============================] - 0s 6ms/step - loss: -1.5120 - accuracy: 0.6167\n",
            "Epoch 47/50\n",
            "4/4 [==============================] - 0s 7ms/step - loss: -1.5337 - accuracy: 0.6167\n",
            "Epoch 48/50\n",
            "4/4 [==============================] - 0s 6ms/step - loss: -1.5554 - accuracy: 0.6167\n",
            "Epoch 49/50\n",
            "4/4 [==============================] - 0s 6ms/step - loss: -1.5766 - accuracy: 0.6167\n",
            "Epoch 50/50\n",
            "4/4 [==============================] - 0s 7ms/step - loss: -1.5981 - accuracy: 0.6167\n",
            "1/1 [==============================] - 0s 111ms/step\n",
            "Accuracy: 0.6\n",
            "Confusion Matrix:\n",
            "[[10  0  0]\n",
            " [ 1  8  0]\n",
            " [ 0 11  0]]\n"
          ]
        }
      ]
    }
  ]
}