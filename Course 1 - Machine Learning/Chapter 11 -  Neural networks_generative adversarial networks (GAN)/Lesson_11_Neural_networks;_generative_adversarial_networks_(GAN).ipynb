{
  "nbformat": 4,
  "nbformat_minor": 0,
  "metadata": {
    "colab": {
      "provenance": []
    },
    "kernelspec": {
      "name": "python3",
      "display_name": "Python 3"
    },
    "language_info": {
      "name": "python"
    }
  },
  "cells": [
    {
      "cell_type": "markdown",
      "source": [
        "#Neural networks; generative adversarial networks (GAN)"
      ],
      "metadata": {
        "id": "YK4hig3SW1Ev"
      }
    },
    {
      "cell_type": "markdown",
      "source": [
        "#Neural Networks"
      ],
      "metadata": {
        "id": "APvQbIr0W7we"
      }
    },
    {
      "cell_type": "code",
      "execution_count": null,
      "metadata": {
        "colab": {
          "base_uri": "https://localhost:8080/"
        },
        "id": "HO14PlbRWyIO",
        "outputId": "3c8918a2-7fdc-41b8-fd73-d7b9a6012bec"
      },
      "outputs": [
        {
          "output_type": "stream",
          "name": "stdout",
          "text": [
            "Downloading data from https://storage.googleapis.com/tensorflow/tf-keras-datasets/mnist.npz\n",
            "11490434/11490434 [==============================] - 1s 0us/step\n",
            "Epoch 1/5\n",
            "844/844 [==============================] - 53s 61ms/step - loss: 0.1938 - accuracy: 0.9402 - val_loss: 0.0587 - val_accuracy: 0.9823\n",
            "Epoch 2/5\n",
            "844/844 [==============================] - 50s 59ms/step - loss: 0.0515 - accuracy: 0.9839 - val_loss: 0.0370 - val_accuracy: 0.9882\n",
            "Epoch 3/5\n",
            "844/844 [==============================] - 50s 59ms/step - loss: 0.0371 - accuracy: 0.9883 - val_loss: 0.0384 - val_accuracy: 0.9882\n",
            "Epoch 4/5\n",
            "844/844 [==============================] - 50s 59ms/step - loss: 0.0285 - accuracy: 0.9913 - val_loss: 0.0356 - val_accuracy: 0.9895\n",
            "Epoch 5/5\n",
            "844/844 [==============================] - 52s 62ms/step - loss: 0.0233 - accuracy: 0.9926 - val_loss: 0.0320 - val_accuracy: 0.9898\n",
            "313/313 [==============================] - 4s 13ms/step - loss: 0.0295 - accuracy: 0.9895\n",
            "Test accuracy: 0.9894999861717224\n"
          ]
        }
      ],
      "source": [
        "import tensorflow as tf\n",
        "from tensorflow.keras import layers, models, datasets\n",
        "\n",
        "# Load and preprocess the MNIST dataset\n",
        "(train_images, train_labels), (test_images, test_labels) = datasets.mnist.load_data()\n",
        "train_images, test_images = train_images / 255.0, test_images / 255.0\n",
        "train_images = train_images[..., tf.newaxis]\n",
        "test_images = test_images[..., tf.newaxis]\n",
        "train_labels = tf.keras.utils.to_categorical(train_labels, num_classes=10)\n",
        "test_labels = tf.keras.utils.to_categorical(test_labels, num_classes=10)\n",
        "\n",
        "# Define the CNN model\n",
        "model = models.Sequential([\n",
        "    layers.Conv2D(32, (3, 3), activation='relu', input_shape=(28, 28, 1)),\n",
        "    layers.MaxPooling2D((2, 2)),\n",
        "    layers.Conv2D(64, (3, 3), activation='relu'),\n",
        "    layers.MaxPooling2D((2, 2)),\n",
        "    layers.Conv2D(64, (3, 3), activation='relu'),\n",
        "    layers.Flatten(),\n",
        "    layers.Dense(64, activation='relu'),\n",
        "    layers.Dense(10, activation='softmax')\n",
        "])\n",
        "\n",
        "# Compile the model\n",
        "model.compile(optimizer='adam',\n",
        "              loss='categorical_crossentropy',\n",
        "              metrics=['accuracy'])\n",
        "\n",
        "# Train the model\n",
        "model.fit(train_images, train_labels, epochs=5, batch_size=64, validation_split=0.1)\n",
        "\n",
        "# Evaluate the model\n",
        "test_loss, test_acc = model.evaluate(test_images, test_labels)\n",
        "print(f'Test accuracy: {test_acc}')\n"
      ]
    },
    {
      "cell_type": "markdown",
      "source": [
        "#Generative Adversarial Networks (GAN)"
      ],
      "metadata": {
        "id": "1K7zepLPW9DX"
      }
    },
    {
      "cell_type": "code",
      "source": [
        "import tensorflow as tf\n",
        "from tensorflow.keras.layers import Dense, Input\n",
        "from tensorflow.keras.models import Model\n",
        "from tensorflow.keras.optimizers import Adam\n",
        "import numpy as np\n",
        "from sklearn.datasets import load_iris\n",
        "\n",
        "# Load Iris dataset\n",
        "iris = load_iris()\n",
        "X = iris.data  # Features\n",
        "y = iris.target  # Target\n",
        "\n",
        "# Normalize the data\n",
        "X = (X - X.min(axis=0)) / (X.max(axis=0) - X.min(axis=0))\n",
        "\n",
        "# Define dimensions\n",
        "input_dim = X.shape[1]\n",
        "latent_dim = 4\n",
        "\n",
        "# Generator model\n",
        "def build_generator(latent_dim):\n",
        "    input_layer = Input(shape=(latent_dim,))\n",
        "    x = Dense(8, activation='relu')(input_layer)\n",
        "    x = Dense(input_dim, activation='sigmoid')(x)  # Output layer with sigmoid for [0,1] range\n",
        "    generator = Model(input_layer, x)\n",
        "    return generator\n",
        "\n",
        "# Discriminator model\n",
        "def build_discriminator():\n",
        "    input_layer = Input(shape=(input_dim,))\n",
        "    x = Dense(8, activation='relu')(input_layer)\n",
        "    x = Dense(1, activation='sigmoid')(x)  # Output layer with sigmoid for binary classification\n",
        "    discriminator = Model(input_layer, x)\n",
        "    return discriminator\n",
        "\n",
        "# Build generator and discriminator\n",
        "generator = build_generator(latent_dim)\n",
        "discriminator = build_discriminator()\n",
        "\n",
        "# Compile discriminator\n",
        "discriminator.compile(optimizer=Adam(lr=0.0002), loss='binary_crossentropy', metrics=['accuracy'])\n",
        "\n",
        "# Combined GAN model\n",
        "z = Input(shape=(latent_dim,))\n",
        "gen_data = generator(z)\n",
        "discriminator.trainable = False\n",
        "validity = discriminator(gen_data)\n",
        "\n",
        "# Combined model (generator and discriminator)\n",
        "gan = Model(z, validity)\n",
        "gan.compile(optimizer=Adam(lr=0.0002), loss='binary_crossentropy')\n",
        "\n",
        "# Training the GAN\n",
        "def train_gan(X, epochs=10, batch_size=128):\n",
        "    for epoch in range(epochs):\n",
        "        # Generate random noise as input to the generator\n",
        "        noise = np.random.normal(0, 1, (batch_size, latent_dim))\n",
        "\n",
        "        # Generate fake samples using the generator\n",
        "        gen_samples = generator.predict(noise)\n",
        "\n",
        "        # Select a random batch of real samples from the dataset\n",
        "        idx = np.random.randint(0, X.shape[0], batch_size)\n",
        "        real_samples = X[idx]\n",
        "\n",
        "        # Labels for real and fake samples\n",
        "        valid = np.ones((batch_size, 1))\n",
        "        fake = np.zeros((batch_size, 1))\n",
        "\n",
        "        # Train the discriminator\n",
        "        d_loss_real = discriminator.train_on_batch(real_samples, valid)\n",
        "        d_loss_fake = discriminator.train_on_batch(gen_samples, fake)\n",
        "        d_loss = 0.5 * np.add(d_loss_real, d_loss_fake)\n",
        "\n",
        "        # Train the generator (via the combined model, where the discriminator weights are frozen)\n",
        "        g_loss = gan.train_on_batch(noise, valid)\n",
        "\n",
        "        # Print progress\n",
        "        if epoch % 1000 == 0:\n",
        "            print(f\"Epoch {epoch}, Discriminator Loss: {d_loss[0]}, Generator Loss: {g_loss}\")\n",
        "\n",
        "# Train the GAN\n",
        "train_gan(X)\n",
        "\n",
        "# Generate synthetic samples using the trained generator\n",
        "def generate_samples(num_samples=10):\n",
        "    noise = np.random.normal(0, 1, (num_samples, latent_dim))\n",
        "    generated_data = generator.predict(noise)\n",
        "    return generated_data\n",
        "\n",
        "# Generate and print synthetic samples\n",
        "synthetic_samples = generate_samples()\n",
        "print(\"Generated Samples:\")\n",
        "print(synthetic_samples)"
      ],
      "metadata": {
        "colab": {
          "base_uri": "https://localhost:8080/"
        },
        "id": "3ty3OaD0W6qz",
        "outputId": "f2cd53dd-9862-483a-b43e-3a9100b9903a"
      },
      "execution_count": null,
      "outputs": [
        {
          "output_type": "stream",
          "name": "stderr",
          "text": [
            "WARNING:absl:`lr` is deprecated in Keras optimizer, please use `learning_rate` or use the legacy optimizer, e.g.,tf.keras.optimizers.legacy.Adam.\n",
            "WARNING:absl:`lr` is deprecated in Keras optimizer, please use `learning_rate` or use the legacy optimizer, e.g.,tf.keras.optimizers.legacy.Adam.\n"
          ]
        },
        {
          "output_type": "stream",
          "name": "stdout",
          "text": [
            "4/4 [==============================] - 0s 4ms/step\n",
            "Epoch 0, Discriminator Loss: 0.6862086653709412, Generator Loss: 0.7504369020462036\n",
            "4/4 [==============================] - 0s 3ms/step\n",
            "4/4 [==============================] - 0s 4ms/step\n",
            "4/4 [==============================] - 0s 5ms/step\n",
            "4/4 [==============================] - 0s 4ms/step\n",
            "4/4 [==============================] - 0s 6ms/step\n",
            "4/4 [==============================] - 0s 6ms/step\n",
            "4/4 [==============================] - 0s 9ms/step\n",
            "4/4 [==============================] - 0s 8ms/step\n",
            "4/4 [==============================] - 0s 4ms/step\n",
            "1/1 [==============================] - 0s 119ms/step\n",
            "Generated Samples:\n",
            "[[0.5614743  0.8353513  0.4960865  0.7441142 ]\n",
            " [0.30850944 0.6382929  0.5933742  0.41476458]\n",
            " [0.37725884 0.4496788  0.5111663  0.49373809]\n",
            " [0.19139811 0.6664308  0.59817064 0.44317803]\n",
            " [0.35356534 0.42259914 0.5292337  0.5387443 ]\n",
            " [0.21520674 0.84862846 0.51508075 0.46262136]\n",
            " [0.5094228  0.75314677 0.593027   0.68550324]\n",
            " [0.3931726  0.4734123  0.43269256 0.3573815 ]\n",
            " [0.4117707  0.43282223 0.58018464 0.6179084 ]\n",
            " [0.41951227 0.50581723 0.68218184 0.44485173]]\n"
          ]
        }
      ]
    }
  ]
}